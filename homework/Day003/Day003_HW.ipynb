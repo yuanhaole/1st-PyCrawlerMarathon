{
 "cells": [
  {
   "cell_type": "markdown",
   "metadata": {},
   "source": [
    "# Python 下載XML檔案與解析\n",
    "\n",
    "\n",
    "* 了解 xml 檔案格式與內容\n",
    "* 能夠利用套件存取 xml 格式的檔案\n"
   ]
  },
  {
   "cell_type": "markdown",
   "metadata": {},
   "source": [
    "## 作業目標\n",
    "\n",
    "* 比較一下範例檔案中的「File I/O」與「xmltodict」讀出來的內容有什麼差異\n",
    "\n",
    "* 根據範例檔案的結果：\n",
    "    1. 請問高雄市有多少地區有溫度資料？\n",
    "    2. 請取出每一個地區所記錄的第一個時間點跟溫度\n",
    "    3. 請取出第一個地區所記錄的每一個時間點跟溫度"
   ]
  },
  {
   "cell_type": "markdown",
   "metadata": {},
   "source": [
    "### 比較一下範例檔案中的「File I/O」與「xmltodict」讀出來的內容有什麼差異\n"
   ]
  },
  {
   "cell_type": "code",
   "execution_count": 14,
   "metadata": {},
   "outputs": [],
   "source": [
    "# 下載檔案\n",
    "import urllib.request\n",
    "import zipfile\n",
    "import os\n",
    "os.makedirs( './data', exist_ok=True )\n",
    "res = \"http://opendata.cwb.gov.tw/govdownload?dataid=F-D0047-093&authorizationkey=rdec-key-123-45678-011121314\"\n",
    "urllib.request.urlretrieve(res, \"./data/example.zip\")\n",
    "f = zipfile.ZipFile('./data/example.zip')\n",
    "f.extractall('./data')"
   ]
  },
  {
   "cell_type": "code",
   "execution_count": 15,
   "metadata": {
    "tags": [
     "outputPrepend"
    ]
   },
   "outputs": [
    {
     "output_type": "stream",
     "name": "stdout",
     "text": "Time>2020-05-27T21:00:00+08:00</dataTime>\n            <elementValue>\n              <value>23</value>\n              <measures>攝氏度</measures>\n            </elementValue>\n          </time>\n          <time>\n            <dataTime>2020-05-28T00:00:00+08:00</dataTime>\n            <elementValue>\n              <value>22</value>\n              <measures>攝氏度</measures>\n            </elementValue>\n          </time>\n          <time>\n            <dataTime>2020-05-28T03:00:00+08:00</dataTime>\n            <elementValue>\n              <value>22</value>\n              <measures>攝氏度</measures>\n            </elementValue>\n          </time>\n          <time>\n            <dataTime>2020-05-28T06:00:00+08:00</dataTime>\n            <elementValue>\n              <value>22</value>\n              <measures>攝氏度</measures>\n            </elementValue>\n          </time>\n          <time>\n            <dataTime>2020-05-28T09:00:00+08:00</dataTime>\n            <elementValue>\n              <value>27</value>\n              <measures>攝氏度</measures>\n            </elementValue>\n          </time>\n          <time>\n            <dataTime>2020-05-28T12:00:00+08:00</dataTime>\n            <elementValue>\n              <value>29</value>\n              <measures>攝氏度</measures>\n            </elementValue>\n          </time>\n          <time>\n            <dataTime>2020-05-28T15:00:00+08:00</dataTime>\n            <elementValue>\n              <value>28</value>\n              <measures>攝氏度</measures>\n            </elementValue>\n          </time>\n        </weatherElement>\n        <weatherElement>\n          <elementName>Wx</elementName>\n          <description>天氣現象</description>\n          <time>\n            <startTime>2020-05-25T18:00:00+08:00</startTime>\n            <endTime>2020-05-25T21:00:00+08:00</endTime>\n            <elementValue>\n              <value>多雲</value>\n              <measures>自定義 Wx 文字</measures>\n            </elementValue>\n            <elementValue>\n              <value>04</value>\n              <measures>自定義 Wx 單位</measures>\n            </elementValue>\n          </time>\n          <time>\n            <startTime>2020-05-25T21:00:00+08:00</startTime>\n            <endTime>2020-05-26T00:00:00+08:00</endTime>\n            <elementValue>\n              <value>多雲</value>\n              <measures>自定義 Wx 文字</measures>\n            </elementValue>\n            <elementValue>\n              <value>04</value>\n              <measures>自定義 Wx 單位</measures>\n            </elementValue>\n          </time>\n          <time>\n            <startTime>2020-05-26T00:00:00+08:00</startTime>\n            <endTime>2020-05-26T03:00:00+08:00</endTime>\n            <elementValue>\n              <value>陰</value>\n              <measures>自定義 Wx 文字</measures>\n            </elementValue>\n            <elementValue>\n              <value>07</value>\n              <measures>自定義 Wx 單位</measures>\n            </elementValue>\n          </time>\n          <time>\n            <startTime>2020-05-26T03:00:00+08:00</startTime>\n            <endTime>2020-05-26T06:00:00+08:00</endTime>\n            <elementValue>\n              <value>多雲</value>\n              <measures>自定義 Wx 文字</measures>\n            </elementValue>\n            <elementValue>\n              <value>04</value>\n              <measures>自定義 Wx 單位</measures>\n            </elementValue>\n          </time>\n          <time>\n            <startTime>2020-05-26T06:00:00+08:00</startTime>\n            <endTime>2020-05-26T09:00:00+08:00</endTime>\n            <elementValue>\n              <value>短暫陣雨或雷雨</value>\n              <measures>自定義 Wx 文字</measures>\n            </elementValue>\n            <elementValue>\n              <value>15</value>\n              <measures>自定義 Wx 單位</measures>\n            </elementValue>\n          </time>\n          <time>\n            <startTime>2020-05-26T09:00:00+08:00</startTime>\n            <endTime>2020-05-26T12:00:00+08:00</endTime>\n            <elementValue>\n              <value>短暫陣雨或雷雨</value>\n              <measures>自定義 Wx 文字</measures>\n            </elementValue>\n            <elementValue>\n              <value>15</value>\n              <measures>自定義 Wx 單位</measures>\n            </elementValue>\n          </time>\n          <time>\n            <startTime>2020-05-26T12:00:00+08:00</startTime>\n            <endTime>2020-05-26T15:00:00+08:00</endTime>\n            <elementValue>\n              <value>短暫陣雨或雷雨</value>\n              <measures>自定義 Wx 文字</measures>\n            </elementValue>\n            <elementValue>\n              <value>15</value>\n              <measures>自定義 Wx 單位</measures>\n            </elementValue>\n          </time>\n          <time>\n            <startTime>2020-05-26T15:00:00+08:00</startTime>\n            <endTime>2020-05-26T18:00:00+08:00</endTime>\n            <elementValue>\n              <value>短暫陣雨或雷雨</value>\n              <measures>自定義 Wx 文字</measures>\n            </elementValue>\n            <elementValue>\n              <value>15</value>\n              <measures>自定義 Wx 單位</measures>\n            </elementValue>\n          </time>\n          <time>\n            <startTime>2020-05-26T18:00:00+08:00</startTime>\n            <endTime>2020-05-26T21:00:00+08:00</endTime>\n            <elementValue>\n              <value>短暫陣雨或雷雨</value>\n              <measures>自定義 Wx 文字</measures>\n            </elementValue>\n            <elementValue>\n              <value>15</value>\n              <measures>自定義 Wx 單位</measures>\n            </elementValue>\n          </time>\n          <time>\n            <startTime>2020-05-26T21:00:00+08:00</startTime>\n            <endTime>2020-05-27T00:00:00+08:00</endTime>\n            <elementValue>\n              <value>短暫陣雨或雷雨</value>\n              <measures>自定義 Wx 文字</measures>\n            </elementValue>\n            <elementValue>\n              <value>15</value>\n              <measures>自定義 Wx 單位</measures>\n            </elementValue>\n          </time>\n          <time>\n            <startTime>2020-05-27T00:00:00+08:00</startTime>\n            <endTime>2020-05-27T03:00:00+08:00</endTime>\n            <elementValue>\n              <value>短暫陣雨或雷雨</value>\n              <measures>自定義 Wx 文字</measures>\n            </elementValue>\n            <elementValue>\n              <value>15</value>\n              <measures>自定義 Wx 單位</measures>\n            </elementValue>\n          </time>\n          <time>\n            <startTime>2020-05-27T03:00:00+08:00</startTime>\n            <endTime>2020-05-27T06:00:00+08:00</endTime>\n            <elementValue>\n              <value>短暫陣雨或雷雨</value>\n              <measures>自定義 Wx 文字</measures>\n            </elementValue>\n            <elementValue>\n              <value>15</value>\n              <measures>自定義 Wx 單位</measures>\n            </elementValue>\n          </time>\n          <time>\n            <startTime>2020-05-27T06:00:00+08:00</startTime>\n            <endTime>2020-05-27T09:00:00+08:00</endTime>\n            <elementValue>\n              <value>短暫陣雨或雷雨</value>\n              <measures>自定義 Wx 文字</measures>\n            </elementValue>\n            <elementValue>\n              <value>15</value>\n              <measures>自定義 Wx 單位</measures>\n            </elementValue>\n          </time>\n          <time>\n            <startTime>2020-05-27T09:00:00+08:00</startTime>\n            <endTime>2020-05-27T12:00:00+08:00</endTime>\n            <elementValue>\n              <value>短暫陣雨或雷雨</value>\n              <measures>自定義 Wx 文字</measures>\n            </elementValue>\n            <elementValue>\n              <value>15</value>\n              <measures>自定義 Wx 單位</measures>\n            </elementValue>\n          </time>\n          <time>\n            <startTime>2020-05-27T12:00:00+08:00</startTime>\n            <endTime>2020-05-27T15:00:00+08:00</endTime>\n            <elementValue>\n              <value>短暫陣雨或雷雨</value>\n              <measures>自定義 Wx 文字</measures>\n            </elementValue>\n            <elementValue>\n              <value>15</value>\n              <measures>自定義 Wx 單位</measures>\n            </elementValue>\n          </time>\n          <time>\n            <startTime>2020-05-27T15:00:00+08:00</startTime>\n            <endTime>2020-05-27T18:00:00+08:00</endTime>\n            <elementValue>\n              <value>短暫陣雨或雷雨</value>\n              <measures>自定義 Wx 文字</measures>\n            </elementValue>\n            <elementValue>\n              <value>15</value>\n              <measures>自定義 Wx 單位</measures>\n            </elementValue>\n          </time>\n          <time>\n            <startTime>2020-05-27T18:00:00+08:00</startTime>\n            <endTime>2020-05-27T21:00:00+08:00</endTime>\n            <elementValue>\n              <value>陰</value>\n              <measures>自定義 Wx 文字</measures>\n            </elementValue>\n            <elementValue>\n              <value>07</value>\n              <measures>自定義 Wx 單位</measures>\n            </elementValue>\n          </time>\n          <time>\n            <startTime>2020-05-27T21:00:00+08:00</startTime>\n            <endTime>2020-05-28T00:00:00+08:00</endTime>\n            <elementValue>\n              <value>短暫陣雨或雷雨</value>\n              <measures>自定義 Wx 文字</measures>\n            </elementValue>\n            <elementValue>\n              <value>15</value>\n              <measures>自定義 Wx 單位</measures>\n            </elementValue>\n          </time>\n          <time>\n            <startTime>2020-05-28T00:00:00+08:00</startTime>\n            <endTime>2020-05-28T03:00:00+08:00</endTime>\n            <elementValue>\n              <value>短暫陣雨或雷雨</value>\n              <measures>自定義 Wx 文字</measures>\n            </elementValue>\n            <elementValue>\n              <value>15</value>\n              <measures>自定義 Wx 單位</measures>\n            </elementValue>\n          </time>\n          <time>\n            <startTime>2020-05-28T03:00:00+08:00</startTime>\n            <endTime>2020-05-28T06:00:00+08:00</endTime>\n            <elementValue>\n              <value>短暫陣雨或雷雨</value>\n              <measures>自定義 Wx 文字</measures>\n            </elementValue>\n            <elementValue>\n              <value>15</value>\n              <measures>自定義 Wx 單位</measures>\n            </elementValue>\n          </time>\n          <time>\n            <startTime>2020-05-28T06:00:00+08:00</startTime>\n            <endTime>2020-05-28T09:00:00+08:00</endTime>\n            <elementValue>\n              <value>多雲</value>\n              <measures>自定義 Wx 文字</measures>\n            </elementValue>\n            <elementValue>\n              <value>04</value>\n              <measures>自定義 Wx 單位</measures>\n            </elementValue>\n          </time>\n          <time>\n            <startTime>2020-05-28T09:00:00+08:00</startTime>\n            <endTime>2020-05-28T12:00:00+08:00</endTime>\n            <elementValue>\n              <value>短暫陣雨或雷雨</value>\n              <measures>自定義 Wx 文字</measures>\n            </elementValue>\n            <elementValue>\n              <value>15</value>\n              <measures>自定義 Wx 單位</measures>\n            </elementValue>\n          </time>\n          <time>\n            <startTime>2020-05-28T12:00:00+08:00</startTime>\n            <endTime>2020-05-28T15:00:00+08:00</endTime>\n            <elementValue>\n              <value>短暫陣雨或雷雨</value>\n              <measures>自定義 Wx 文字</measures>\n            </elementValue>\n            <elementValue>\n              <value>15</value>\n              <measures>自定義 Wx 單位</measures>\n            </elementValue>\n          </time>\n          <time>\n            <startTime>2020-05-28T15:00:00+08:00</startTime>\n            <endTime>2020-05-28T18:00:00+08:00</endTime>\n            <elementValue>\n              <value>短暫陣雨或雷雨</value>\n              <measures>自定義 Wx 文字</measures>\n            </elementValue>\n            <elementValue>\n              <value>15</value>\n              <measures>自定義 Wx 單位</measures>\n            </elementValue>\n          </time>\n        </weatherElement>\n        <weatherElement>\n          <elementName>WeatherDescription</elementName>\n          <description>天氣預報綜合描述</description>\n          <time>\n            <startTime>2020-05-25T18:00:00+08:00</startTime>\n            <endTime>2020-05-25T21:00:00+08:00</endTime>\n            <elementValue>\n              <value>多雲。降雨機率 20%。溫度攝氏24度。舒適。東南風 平均風速&lt;= 1級(每秒1公尺)。相對濕度94%。</value>\n              <measures>NA</measures>\n            </elementValue>\n          </time>\n          <time>\n            <startTime>2020-05-25T21:00:00+08:00</startTime>\n            <endTime>2020-05-26T00:00:00+08:00</endTime>\n            <elementValue>\n              <value>多雲。降雨機率 20%。溫度攝氏22度。舒適。東南風 平均風速&lt;= 1級(每秒0公尺)。相對濕度89%。</value>\n              <measures>NA</measures>\n            </elementValue>\n          </time>\n          <time>\n            <startTime>2020-05-26T00:00:00+08:00</startTime>\n            <endTime>2020-05-26T03:00:00+08:00</endTime>\n            <elementValue>\n              <value>陰。降雨機率 20%。溫度攝氏21度。舒適。東南風 平均風速&lt;= 1級(每秒1公尺)。相對濕度80%。</value>\n              <measures>NA</measures>\n            </elementValue>\n          </time>\n          <time>\n            <startTime>2020-05-26T03:00:00+08:00</startTime>\n            <endTime>2020-05-26T06:00:00+08:00</endTime>\n            <elementValue>\n              <value>多雲。降雨機率 20%。溫度攝氏20度。舒適。偏南風 平均風速&lt;= 1級(每秒1公尺)。相對濕度82%。</value>\n              <measures>NA</measures>\n            </elementValue>\n          </time>\n          <time>\n            <startTime>2020-05-26T06:00:00+08:00</startTime>\n            <endTime>2020-05-26T09:00:00+08:00</endTime>\n            <elementValue>\n              <value>短暫陣雨或雷雨。降雨機率 70%。溫度攝氏20度。舒適。偏東風 平均風速&lt;= 1級(每秒1公尺)。相對濕度80%。</value>\n              <measures>NA</measures>\n            </elementValue>\n          </time>\n          <time>\n            <startTime>2020-05-26T09:00:00+08:00</startTime>\n            <endTime>2020-05-26T12:00:00+08:00</endTime>\n            <elementValue>\n              <value>短暫陣雨或雷雨。降雨機率 70%。溫度攝氏24度。舒適。偏南風 平均風速1-2級(每秒2公尺)。相對濕度89%。</value>\n              <measures>NA</measures>\n            </elementValue>\n          </time>\n          <time>\n            <startTime>2020-05-26T12:00:00+08:00</startTime>\n            <endTime>2020-05-26T15:00:00+08:00</endTime>\n            <elementValue>\n              <value>短暫陣雨或雷雨。降雨機率 90%。溫度攝氏26度。舒適。偏南風 平均風速&lt;= 1級(每秒1公尺)。相對濕度90%。</value>\n              <measures>NA</measures>\n            </elementValue>\n          </time>\n          <time>\n            <startTime>2020-05-26T15:00:00+08:00</startTime>\n            <endTime>2020-05-26T18:00:00+08:00</endTime>\n            <elementValue>\n              <value>短暫陣雨或雷雨。降雨機率 90%。溫度攝氏25度。舒適。偏南風 平均風速&lt;= 1級(每秒2公尺)。相對濕度88%。</value>\n              <measures>NA</measures>\n            </elementValue>\n          </time>\n          <time>\n            <startTime>2020-05-26T18:00:00+08:00</startTime>\n            <endTime>2020-05-26T21:00:00+08:00</endTime>\n            <elementValue>\n              <value>短暫陣雨或雷雨。降雨機率 40%。溫度攝氏23度。舒適。偏東風 平均風速&lt;= 1級(每秒1公尺)。相對濕度91%。</value>\n              <measures>NA</measures>\n            </elementValue>\n          </time>\n          <time>\n            <startTime>2020-05-26T21:00:00+08:00</startTime>\n            <endTime>2020-05-27T00:00:00+08:00</endTime>\n            <elementValue>\n              <value>短暫陣雨或雷雨。降雨機率 40%。溫度攝氏22度。舒適。東南風 平均風速&lt;= 1級(每秒1公尺)。相對濕度91%。</value>\n              <measures>NA</measures>\n            </elementValue>\n          </time>\n          <time>\n            <startTime>2020-05-27T00:00:00+08:00</startTime>\n            <endTime>2020-05-27T03:00:00+08:00</endTime>\n            <elementValue>\n              <value>短暫陣雨或雷雨。降雨機率 40%。溫度攝氏21度。舒適。東南風 平均風速&lt;= 1級(每秒1公尺)。相對濕度94%。</value>\n              <measures>NA</measures>\n            </elementValue>\n          </time>\n          <time>\n            <startTime>2020-05-27T03:00:00+08:00</startTime>\n            <endTime>2020-05-27T06:00:00+08:00</endTime>\n            <elementValue>\n              <value>短暫陣雨或雷雨。降雨機率 40%。溫度攝氏21度。舒適。東南風 平均風速&lt;= 1級(每秒1公尺)。相對濕度91%。</value>\n              <measures>NA</measures>\n            </elementValue>\n          </time>\n          <time>\n            <startTime>2020-05-27T06:00:00+08:00</startTime>\n            <endTime>2020-05-27T09:00:00+08:00</endTime>\n            <elementValue>\n              <value>短暫陣雨或雷雨。降雨機率 100%。溫度攝氏20度。舒適。偏南風 平均風速&lt;= 1級(每秒1公尺)。相對濕度89%。</value>\n              <measures>NA</measures>\n            </elementValue>\n          </time>\n          <time>\n            <startTime>2020-05-27T09:00:00+08:00</startTime>\n            <endTime>2020-05-27T12:00:00+08:00</endTime>\n            <elementValue>\n              <value>短暫陣雨或雷雨。降雨機率 100%。溫度攝氏23度。舒適。西南風 平均風速1-2級(每秒2公尺)。相對濕度90%。</value>\n              <measures>NA</measures>\n            </elementValue>\n          </time>\n          <time>\n            <startTime>2020-05-27T12:00:00+08:00</startTime>\n            <endTime>2020-05-27T15:00:00+08:00</endTime>\n            <elementValue>\n              <value>短暫陣雨或雷雨。降雨機率 90%。溫度攝氏25度。舒適。西南風 平均風速&lt;= 1級(每秒1公尺)。相對濕度85%。</value>\n              <measures>NA</measures>\n            </elementValue>\n          </time>\n          <time>\n            <startTime>2020-05-27T15:00:00+08:00</startTime>\n            <endTime>2020-05-27T18:00:00+08:00</endTime>\n            <elementValue>\n              <value>短暫陣雨或雷雨。降雨機率 90%。溫度攝氏24度。舒適。偏南風 平均風速&lt;= 1級(每秒1公尺)。相對濕度96%。</value>\n              <measures>NA</measures>\n            </elementValue>\n          </time>\n          <time>\n            <startTime>2020-05-27T18:00:00+08:00</startTime>\n            <endTime>2020-05-27T21:00:00+08:00</endTime>\n            <elementValue>\n              <value>陰。降雨機率 80%。溫度攝氏22度。舒適。東南風 平均風速&lt;= 1級(每秒0公尺)。相對濕度94%。</value>\n              <measures>NA</measures>\n            </elementValue>\n          </time>\n          <time>\n            <startTime>2020-05-27T21:00:00+08:00</startTime>\n            <endTime>2020-05-28T00:00:00+08:00</endTime>\n            <elementValue>\n              <value>短暫陣雨或雷雨。降雨機率 80%。溫度攝氏21度。舒適。偏南風 平均風速&lt;= 1級(每秒1公尺)。相對濕度93%。</value>\n              <measures>NA</measures>\n            </elementValue>\n          </time>\n          <time>\n            <startTime>2020-05-28T00:00:00+08:00</startTime>\n            <endTime>2020-05-28T03:00:00+08:00</endTime>\n            <elementValue>\n              <value>短暫陣雨或雷雨。降雨機率 70%。溫度攝氏20度。舒適。偏東風 平均風速&lt;= 1級(每秒0公尺)。相對濕度94%。</value>\n              <measures>NA</measures>\n            </elementValue>\n          </time>\n          <time>\n            <startTime>2020-05-28T03:00:00+08:00</startTime>\n            <endTime>2020-05-28T06:00:00+08:00</endTime>\n            <elementValue>\n              <value>短暫陣雨或雷雨。降雨機率 70%。溫度攝氏20度。舒適。東南風 平均風速&lt;= 1級(每秒1公尺)。相對濕度89%。</value>\n              <measures>NA</measures>\n            </elementValue>\n          </time>\n          <time>\n            <startTime>2020-05-28T06:00:00+08:00</startTime>\n            <endTime>2020-05-28T09:00:00+08:00</endTime>\n            <elementValue>\n              <value>多雲。降雨機率 70%。溫度攝氏20度。舒適。偏南風 平均風速&lt;= 1級(每秒1公尺)。相對濕度84%。</value>\n              <measures>NA</measures>\n            </elementValue>\n          </time>\n          <time>\n            <startTime>2020-05-28T09:00:00+08:00</startTime>\n            <endTime>2020-05-28T12:00:00+08:00</endTime>\n            <elementValue>\n              <value>短暫陣雨或雷雨。降雨機率 70%。溫度攝氏24度。舒適。西南風 平均風速1-2級(每秒2公尺)。相對濕度83%。</value>\n              <measures>NA</measures>\n            </elementValue>\n          </time>\n          <time>\n            <startTime>2020-05-28T12:00:00+08:00</startTime>\n            <endTime>2020-05-28T15:00:00+08:00</endTime>\n            <elementValue>\n              <value>短暫陣雨或雷雨。降雨機率 70%。溫度攝氏26度。舒適。偏南風 平均風速&lt;= 1級(每秒2公尺)。相對濕度82%。</value>\n              <measures>NA</measures>\n            </elementValue>\n          </time>\n          <time>\n            <startTime>2020-05-28T15:00:00+08:00</startTime>\n            <endTime>2020-05-28T18:00:00+08:00</endTime>\n            <elementValue>\n              <value>短暫陣雨或雷雨。降雨機率 70%。溫度攝氏25度。舒適。東南風 平均風速&lt;= 1級(每秒2公尺)。相對濕度88%。</value>\n              <measures>NA</measures>\n            </elementValue>\n          </time>\n        </weatherElement>\n      </location>\n    </locations>\n  </dataset>\n</cwbopendata>\n\n"
    }
   ],
   "source": [
    "# IO\n",
    "fh = open(\"./data/64_72hr_CH.xml\", mode=\"r\",encoding='utf-8')\n",
    "xml = fh.read()\n",
    "fh.close()\n",
    "\n",
    "print(xml)\n"
   ]
  },
  {
   "cell_type": "code",
   "execution_count": 16,
   "metadata": {
    "tags": [
     "outputPrepend"
    ]
   },
   "outputs": [],
   "source": [
    "# xmltodict\n",
    "# 解析檔案內容\n",
    "# import xmltodict\n",
    "# with open('./data/64_72hr_CH.xml',mode=\"r\",encoding='utf-8') as fd:\n",
    "#     doc = dict(xmltodict.parse(fd.read()))\n",
    "#     print(doc)\n",
    "\n",
    "\n"
   ]
  },
  {
   "cell_type": "code",
   "execution_count": 17,
   "metadata": {},
   "outputs": [
    {
     "output_type": "stream",
     "name": "stdout",
     "text": "臺灣各縣市鄉鎮未來3天(72小時)逐3小時天氣預報\n"
    }
   ],
   "source": [
    "# 取出 datasetDescription\n",
    "import xmltodict\n",
    "d = dict(xmltodict.parse(xml))\n",
    "datasetDescription = d['cwbopendata']['dataset']['datasetInfo']['datasetDescription']\n",
    "print(datasetDescription)"
   ]
  },
  {
   "cell_type": "markdown",
   "metadata": {},
   "source": [
    "### 根據範例檔案的結果：\n",
    "\n",
    "1. 請問高雄市有多少地區有溫度資料？\n",
    "2. 請取出每一個地區所記錄的第一個時間點跟溫度\n",
    "3. 請取出第一個地區所記錄的每一個時間點跟溫度"
   ]
  },
  {
   "cell_type": "code",
   "execution_count": 18,
   "metadata": {
    "tags": [
     "outputPrepend"
    ]
   },
   "outputs": [
    {
     "output_type": "stream",
     "name": "stdout",
     "text": "鹽埕區\n鼓山區\n左營區\n楠梓區\n三民區\n新興區\n前金區\n苓雅區\n前鎮區\n旗津區\n小港區\n鳳山區\n林園區\n大寮區\n大樹區\n大社區\n仁武區\n鳥松區\n岡山區\n橋頭區\n燕巢區\n田寮區\n阿蓮區\n路竹區\n湖內區\n茄萣區\n永安區\n彌陀區\n梓官區\n旗山區\n美濃區\n六龜區\n甲仙區\n杉林區\n內門區\n茂林區\n桃源區\n那瑪夏區\n"
    }
   ],
   "source": [
    "# 1. 請問高雄市有多少地區有溫度資料？\n",
    "locations = d['cwbopendata']['dataset']['locations']['location']\n",
    "for location in locations:\n",
    "    print(location['locationName'])\n"
   ]
  },
  {
   "cell_type": "code",
   "execution_count": 19,
   "metadata": {
    "tags": [
     "outputPrepend"
    ]
   },
   "outputs": [
    {
     "output_type": "stream",
     "name": "stdout",
     "text": "鹽埕區 2020-05-25T18:00:00+08:00 29\n鼓山區 2020-05-25T18:00:00+08:00 29\n左營區 2020-05-25T18:00:00+08:00 29\n楠梓區 2020-05-25T18:00:00+08:00 29\n三民區 2020-05-25T18:00:00+08:00 28\n新興區 2020-05-25T18:00:00+08:00 29\n前金區 2020-05-25T18:00:00+08:00 29\n苓雅區 2020-05-25T18:00:00+08:00 29\n前鎮區 2020-05-25T18:00:00+08:00 29\n旗津區 2020-05-25T18:00:00+08:00 28\n小港區 2020-05-25T18:00:00+08:00 30\n鳳山區 2020-05-25T18:00:00+08:00 30\n林園區 2020-05-25T18:00:00+08:00 30\n大寮區 2020-05-25T18:00:00+08:00 30\n大樹區 2020-05-25T18:00:00+08:00 30\n大社區 2020-05-25T18:00:00+08:00 30\n仁武區 2020-05-25T18:00:00+08:00 30\n鳥松區 2020-05-25T18:00:00+08:00 30\n岡山區 2020-05-25T18:00:00+08:00 29\n橋頭區 2020-05-25T18:00:00+08:00 30\n燕巢區 2020-05-25T18:00:00+08:00 29\n田寮區 2020-05-25T18:00:00+08:00 29\n阿蓮區 2020-05-25T18:00:00+08:00 29\n路竹區 2020-05-25T18:00:00+08:00 29\n湖內區 2020-05-25T18:00:00+08:00 28\n茄萣區 2020-05-25T18:00:00+08:00 28\n永安區 2020-05-25T18:00:00+08:00 28\n彌陀區 2020-05-25T18:00:00+08:00 28\n梓官區 2020-05-25T18:00:00+08:00 29\n旗山區 2020-05-25T18:00:00+08:00 30\n美濃區 2020-05-25T18:00:00+08:00 30\n六龜區 2020-05-25T18:00:00+08:00 28\n甲仙區 2020-05-25T18:00:00+08:00 28\n杉林區 2020-05-25T18:00:00+08:00 30\n內門區 2020-05-25T18:00:00+08:00 29\n茂林區 2020-05-25T18:00:00+08:00 28\n桃源區 2020-05-25T18:00:00+08:00 26\n那瑪夏區 2020-05-25T18:00:00+08:00 24\n"
    }
   ],
   "source": [
    "# 2. 請取出每一個地區所記錄的第一個時間點跟溫度\n",
    "lists = d['cwbopendata']['dataset']['locations']['location']\n",
    "for location in locations:\n",
    "    print(location['locationName'],\n",
    "            location['weatherElement'][0]['time'][0]['dataTime'],\n",
    "                location['weatherElement'][0]['time'][0]['elementValue']['value'])\n"
   ]
  },
  {
   "cell_type": "code",
   "execution_count": 20,
   "metadata": {},
   "outputs": [
    {
     "output_type": "stream",
     "name": "stdout",
     "text": "2020-05-25T18:00:00+08:00 29\n2020-05-25T21:00:00+08:00 28\n2020-05-26T00:00:00+08:00 27\n2020-05-26T03:00:00+08:00 26\n2020-05-26T06:00:00+08:00 25\n2020-05-26T09:00:00+08:00 28\n2020-05-26T12:00:00+08:00 30\n2020-05-26T15:00:00+08:00 30\n2020-05-26T18:00:00+08:00 28\n2020-05-26T21:00:00+08:00 27\n2020-05-27T00:00:00+08:00 27\n2020-05-27T03:00:00+08:00 26\n2020-05-27T06:00:00+08:00 26\n2020-05-27T09:00:00+08:00 28\n2020-05-27T12:00:00+08:00 29\n2020-05-27T15:00:00+08:00 29\n2020-05-27T18:00:00+08:00 28\n2020-05-27T21:00:00+08:00 27\n2020-05-28T00:00:00+08:00 26\n2020-05-28T03:00:00+08:00 26\n2020-05-28T06:00:00+08:00 25\n2020-05-28T09:00:00+08:00 28\n2020-05-28T12:00:00+08:00 30\n2020-05-28T15:00:00+08:00 30\n"
    }
   ],
   "source": [
    "# 3. 請取出第一個地區所記錄的每一個時間點跟溫度\n",
    "weatherElements = d['cwbopendata']['dataset']['locations']['location'][0]['weatherElement']\n",
    "\n",
    "for weatherElement in weatherElements:\n",
    "    if weatherElement['elementName'] == 'T':\n",
    "        for time in weatherElement['time']:\n",
    "            print(time['dataTime'],time['elementValue']['value'])\n",
    "\n",
    "\n"
   ]
  },
  {
   "cell_type": "code",
   "execution_count": null,
   "metadata": {},
   "outputs": [],
   "source": []
  }
 ],
 "metadata": {
  "kernelspec": {
   "display_name": "Python 3",
   "language": "python",
   "name": "python3"
  },
  "language_info": {
   "codemirror_mode": {
    "name": "ipython",
    "version": 3
   },
   "file_extension": ".py",
   "mimetype": "text/x-python",
   "name": "python",
   "nbconvert_exporter": "python",
   "pygments_lexer": "ipython3",
   "version": "3.7.4-final"
  }
 },
 "nbformat": 4,
 "nbformat_minor": 2
}