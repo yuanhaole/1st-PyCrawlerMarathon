{
 "cells": [
  {
   "cell_type": "markdown",
   "metadata": {},
   "source": [
    "# 作業\n",
    "\n",
    "以正確的副檔名下載網頁中的圖片\n",
    "範例網頁:https://www.ptt.cc/bbs/Beauty/M.1556291059.A.75A.html\n",
    "\n",
    "Note：因為 PTT 會詢問「是否滿 18 歲」，這邊可以用 cookies 繞過\n",
    "\n",
    "`requests.get(URL, cookies={'over18': '1'}`\n"
   ]
  },
  {
   "cell_type": "code",
   "execution_count": 16,
   "metadata": {},
   "outputs": [],
   "source": [
    "import requests\n",
    "import os\n",
    "\n",
    "from bs4 import BeautifulSoup\n",
    "from PIL import Image\n",
    "\n",
    "#要先下載PIL的套件 pip install Pillow"
   ]
  },
  {
   "cell_type": "code",
   "execution_count": 17,
   "metadata": {},
   "outputs": [],
   "source": [
    "url = 'https://www.ptt.cc/bbs/Beauty/M.1556291059.A.75A.html'\n",
    "resp = requests.get(url, cookies={'over18': '1'})\n",
    "soup = BeautifulSoup(resp.text)"
   ]
  },
  {
   "cell_type": "code",
   "execution_count": 18,
   "metadata": {},
   "outputs": [
    {
     "output_type": "stream",
     "name": "stdout",
     "text": "https://imgur.com/Cgb5oo1\ndownloads/Cgb5oo1.JPEG Saved.\nhttps://imgur.com/MgjHY4f\ndownloads/MgjHY4f.JPEG Saved.\nhttps://imgur.com/yeoRtAs\ndownloads/yeoRtAs.JPEG Saved.\nhttps://imgur.com/wsauNEW\ndownloads/wsauNEW.JPEG Saved.\nhttps://imgur.com/IjiETcs\ndownloads/IjiETcs.JPEG Saved.\n"
    }
   ],
   "source": [
    "# 決定要儲存的資料夾\n",
    "output_dir = 'downloads'\n",
    "\n",
    "# 假如資料夾不存在就新增一個資料夾\n",
    "if not os.path.exists(output_dir):\n",
    "    os.makedirs(output_dir)\n",
    "\n",
    "# 定位所有圖片的 tag\n",
    "image_tags = soup.find(id='main-content').findChildren(\"a\", recursive=False)\n",
    "for img_tag in image_tags:\n",
    "    # 取得所有圖片在第三方服務的 id\n",
    "    url = img_tag[\"href\"]\n",
    "    id = url.split(\"/\")[-1]\n",
    "    print(url)\n",
    "    with requests.get(url+\".jpg\", stream=True) as r:\n",
    "        r.raise_for_status()\n",
    "        img = Image.open(r.raw)\n",
    "        name = \"{}/{}.{}\".format(output_dir, id, img.format)\n",
    "        img.save(name)\n",
    "        print(\"{} Saved.\".format(name))\n",
    "    # 組合圖片而非網站的網址\n",
    "\n",
    "    # 對圖片送出請求"
   ]
  }
 ],
 "metadata": {
  "kernelspec": {
   "display_name": "Python 3",
   "language": "python",
   "name": "python3"
  },
  "language_info": {
   "codemirror_mode": {
    "name": "ipython",
    "version": 3
   },
   "file_extension": ".py",
   "mimetype": "text/x-python",
   "name": "python",
   "nbconvert_exporter": "python",
   "pygments_lexer": "ipython3",
   "version": "3.7.4-final"
  }
 },
 "nbformat": 4,
 "nbformat_minor": 2
}