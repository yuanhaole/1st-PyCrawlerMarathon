{
 "cells": [
  {
   "cell_type": "markdown",
   "metadata": {},
   "source": [
    "# YAHOO電影爬蟲練習\n",
    "## 練習爬取電影放映資訊。必須逐步獲取電影的代號、放映地區、放映日期後，再送出查詢給伺服器。"
   ]
  },
  {
   "cell_type": "code",
   "execution_count": 38,
   "metadata": {},
   "outputs": [],
   "source": [
    "import requests\n",
    "import re\n",
    "from bs4 import BeautifulSoup"
   ]
  },
  {
   "cell_type": "markdown",
   "metadata": {},
   "source": [
    "### 先搜尋全部的電影代號(ID)資訊"
   ]
  },
  {
   "cell_type": "code",
   "execution_count": 39,
   "metadata": {},
   "outputs": [
    {
     "output_type": "stream",
     "name": "stdout",
     "text": "Movie: 永不放棄：詹姆斯艾利森, ID: 10652\nMovie: 雙面遊戲, ID: 10642\nMovie: 巴黎寂寞不打烊, ID: 10636\nMovie: 惡夜救援, ID: 10634\nMovie: 響HIBIKI, ID: 10627\nMovie: 全境入侵, ID: 10625\nMovie: 你的鳥兒會唱歌, ID: 10618\nMovie: 怨鈴, ID: 10604\nMovie: 謊畫情人, ID: 10577\nMovie: 靠北少女, ID: 10575\nMovie: 在你身邊, ID: 10567\nMovie: 說再見前的30分鐘, ID: 10561\nMovie: 1/2的魔法, ID: 10505\nMovie: 靈異405號房, ID: 10687\nMovie: 葉問4：完結篇, ID: 10675\nMovie: 來自深淵 深沉靈魂的黎明  4DX/MX4D, ID: 10658\nMovie: 天氣之子, ID: 10645\nMovie: 喪屍來鬥陣, ID: 10644\nMovie: 末代皇帝, ID: 10640\nMovie: 白髮魔女傳, ID: 10639\nMovie: 誰殺了唐吉訶德, ID: 10624\nMovie: 奇蹟救援, ID: 10605\nMovie: 奪命隧道, ID: 10599\nMovie: 海邊走走, ID: 10495\nMovie: 劇場版白箱, ID: 10621\nMovie: 老娘就要這麼活, ID: 10611\nMovie: 黑暗戰域, ID: 10606\nMovie: 陪你玩最大, ID: 10602\nMovie: 金都, ID: 10530\nMovie: 現屍報, ID: 10619\nMovie: 壞教育, ID: 10617\nMovie: 鎖命佈局, ID: 10616\nMovie: 正在相愛嗎？, ID: 10615\nMovie: 見鬼的戀愛季節, ID: 10612\nMovie: 抽屍剝繭, ID: 10591\nMovie: 流感, ID: 10583\nMovie: 無聲革命, ID: 10601\nMovie: 惡之華, ID: 10587\nMovie: 蜈蚣降, ID: 10586\nMovie: 數碼寶貝 LAST EVOLUTION 絆, ID: 10572\nMovie: 吞噬, ID: 10560\nMovie: 美好拾光公司, ID: 10541\nMovie: 緣來想見妳, ID: 10529\nMovie: 搭火車旅行好吃驚, ID: 10492\nMovie: 罪：米開朗基羅, ID: 10574\nMovie: 知道天空有多藍的人啊, ID: 10526\nMovie: 築夢奇蹟, ID: 10511\nMovie: 末日異戰, ID: 10402\nMovie: 搞鬼, ID: 10570\nMovie: 犬鳴村, ID: 10543\nMovie: 間諜速成班, ID: 10538\nMovie: 我的英雄學院劇場版：英雄新世紀, ID: 10481\nMovie: 魔髮精靈唱遊世界, ID: 10466\nMovie: 抓住救命稻草的野獸們, ID: 10507\nMovie: 第六感生死戀, ID: 10504\nMovie: 記憶屋, ID: 10470\nMovie: 我出去醫下, ID: 10494\nMovie: 刺激1995, ID: 10518\nMovie: 安雅的回家路, ID: 10516\nMovie: 血衛, ID: 10469\nMovie: 狂飆一夢, ID: 10506\nMovie: 大畫特務, ID: 10478\nMovie: 明明會說話, ID: 10440\nMovie: 艾瑪, ID: 10396\nMovie: 女鬼橋, ID: 10437\nMovie: 極地守護犬, ID: 10383\nMovie: 隱形人, ID: 10359\nMovie: 李察朱威爾事件, ID: 10368\nMovie: 音速小子, ID: 9246\nMovie: 逃出夢幻島, ID: 10485\nMovie: 全境失控, ID: 10426\nMovie: 猛禽小隊：小丑女大解放, ID: 10268\nMovie: 1917, ID: 10189\nMovie: 你的情歌, ID: 10407\nMovie: 巧虎電影：英雄遊樂園, ID: 10429\nMovie: 不完美的正義, ID: 10243\nMovie: 星星知我心, ID: 10409\nMovie: 驅魔直播, ID: 10375\nMovie: BanG Dream！ FILM LIVE, ID: 10271\nMovie: 青春豬頭少年不會夢到懷夢美少女, ID: 10146\nMovie: 大象席地而坐, ID: 9236\nMovie: 夏目友人帳劇場版：緣結空蟬, ID: 8801\nMovie: 魔女首部曲：誕生, ID: 8817\nMovie: 遊戲人生Zero, ID: 7546\nMovie: 魔導少年龍之淚, ID: 6884\nMovie: 神鬼傳奇, ID: 6647\nMovie: 刀劍神域劇場版－序列爭戰, ID: 6600\nMovie: 終極追殺令, ID: 6540\nMovie: 關不住的誘惑, ID: 6398\nMovie: 藍色情挑 經典數位修復, ID: 6302\nMovie: 一首搖滾上月球, ID: 4887\nMovie: 錢不夠用2, ID: 3026\n"
    }
   ],
   "source": [
    "# 查看目前上映那些電影，並擷取出其ID資訊\n",
    "url = 'https://movies.yahoo.com.tw/'\n",
    "resp = requests.get(url)\n",
    "resp.encoding = 'utf-8'\n",
    "\n",
    "soup = BeautifulSoup(resp.text, 'lxml')\n",
    "html = soup.find(\"select\", attrs={'name':'movie_id'})\n",
    "movie_item = html.find_all(\"option\", attrs={'data-name':re.compile('.*')})\n",
    "\n",
    "for p in movie_item:\n",
    "    print(\"Movie: %s, ID: %s\" % (p[\"data-name\"], p[\"value\"]))"
   ]
  },
  {
   "cell_type": "markdown",
   "metadata": {},
   "source": [
    "### 指定你有興趣的電影其ID，然後查詢其放映地區資訊。"
   ]
  },
  {
   "cell_type": "code",
   "execution_count": 40,
   "metadata": {},
   "outputs": [],
   "source": [
    "# 參考前一個步驟中擷取到的ID資訊，並指定ID\n",
    "movie_id = 10652"
   ]
  },
  {
   "cell_type": "code",
   "execution_count": 41,
   "metadata": {},
   "outputs": [
    {
     "output_type": "stream",
     "name": "stdout",
     "text": "放映地區: 台北市, 代號(area_id): 28\n放映地區: 高雄, 代號(area_id): 17\n"
    }
   ],
   "source": [
    "url = 'https://movies.yahoo.com.tw/api/v1/areas_by_movie_theater'\n",
    "payload = {'movie_id':str(movie_id)}\n",
    "\n",
    "# 模擬一個header\n",
    "headers = {\n",
    "    'authority': 'movies.yahoo.com.tw',\n",
    "    'method': 'GET',\n",
    "    'path': '/api/v1/areas_by_movie_theater?movie_id=' + str(movie_id),\n",
    "    'scheme': 'https',\n",
    "    'accept': 'application/json, text/javascript, */*; q=0.01',\n",
    "    'accept-encoding': 'gzip, deflate, br',\n",
    "    'accept-language': 'zh-TW,zh;q=0.9,en-US;q=0.8,en;q=0.7,zh-CN;q=0.6',\n",
    "    'cookie': 'rxx=9s3x2fws06.1g16irnc&v=1; _ga=GA1.3.2056742944.1551651301; GUC=AQEBAQFczFpdm0IfmwSB&s=AQAAACoo4N5D&g=XMsVBw; BX=4hkdk1decm57t&b=3&s=mr; _ga=GA1.4.2056742944.1551651301; nexagesuid=82843256dd234e8e91aa73f2062f8218; browsed_movie=eyJpdiI6IlJXWWtiSWJaZlNGK2MxQnhscnVUYWc9PSIsInZhbHVlIjoiMXRhMmVHRXRIeUNjc1RBWDJzdGYwbnlIQURmWGsrcjJSMzhkbkcraDNJVUNIZEZsbzU3amlFcVZ1NzlmazJrTGpoMjVrbHk1YmpoRENXaHZTOUw1TmI2ZTZVWHdOejZQZm16RmVuMWlHTTJLaTZLVFZZVkFOMDlTd1wvSGltcytJIiwibWFjIjoiZWQ2ZjA4MmVjZmZlYjlmNjJmYmY2NGMyMDI0Njc0NWViYjVkOWE2NDg0N2RhODMxZjBjZDhiMmJhZTc2MDZhYiJ9; avi=eyJpdiI6Im1NeWFJRlVRWDR1endEcGRGUGJUbVE9PSIsInZhbHVlIjoickRpU3JuUytmcGl6cjF5OW0rNU9iZz09IiwibWFjIjoiY2VmY2NkNzZmM2NhNjY5YzlkOTcyNjE5OGEyMzU0NWYxOTdmMDRkMDY3OWNmMmZjOTMxYjc5MjI5N2Q5NGE5MiJ9; cmp=t=1559391030&j=0; _gid=GA1.4.779543841.1559391031; XSRF-TOKEN=eyJpdiI6IkhpS2hGcDRQaHlmWUJmaHdSS2Q2bHc9PSIsInZhbHVlIjoiOUVoNFk4OHI1UUZmUWRtYXhza0MyWjJSTlhlZ3RnT0VGeVJPN2JuczVRMGRFdWt2OUlsamVKeHRobFwvcHBGM0dhU3VyMXNGTHlsb2dVM2l0U1hpUGxBPT0iLCJtYWMiOiJkZWU4YzJhNjAxMTY3MzE4Y2ExNWIxYmE1ZjE1YWZlZTlhOTcyYjc4M2RlZGY4ZWNjZDYyMTA2NGYwZGViMzc2In0%3D; m_s=eyJpdiI6InpsZHZ2Tk1BZ0dxaHhETml1RjBnUXc9PSIsInZhbHVlIjoiSkNGeHUranRoXC85bDFiaDhySTJqNkJRcWdjWUxjeVRJSHVYZ1wvd2d4bWJZUTUrSHVDM0lUcW5KNHdETFZ4T1lieU81OUhzc1VoUXhZcWk0UDZSQXVFdz09IiwibWFjIjoiYmJkMDJkMDhlODIzMzcyMWY4M2NmYWNjNGVlOWRjMDIwZmVmNzAyMjE3Yzg3ZGY3ODBkZWEzZTI4MTI5ZWNmOSJ9; _gat=1; nexagesd=10',\n",
    "    'dnt': '1',\n",
    "    'mv-authorization': '21835b082e15b91a69b3851eec7b31b82ce82afb',\n",
    "    'referer': 'https://movies.yahoo.com.tw/',\n",
    "    'user-agent': 'Mozilla/5.0 (Windows NT 10.0; Win64; x64) AppleWebKit/537.36 (KHTML, like Gecko) Chrome/74.0.3729.169 Safari/537.36',\n",
    "    'x-requested-with': 'XMLHttpRequest',\n",
    "}\n",
    "    \n",
    "resp = requests.get(url, params=payload, headers=headers)\n",
    "#print(resp.json())  # 若有需要，列印出json原始碼\n",
    "\n",
    "# 這裡回傳的格式是JSON格式的資料，要解析JSON擷取資料\n",
    "for p in resp.json():\n",
    "    print('放映地區: {0}, 代號(area_id): {1}'.format(p['title'], p['area_id']))"
   ]
  },
  {
   "cell_type": "markdown",
   "metadata": {},
   "source": [
    "### 指定你想要觀看的放映地區，查詢有上映電影的場次日期"
   ]
  },
  {
   "cell_type": "code",
   "execution_count": 42,
   "metadata": {},
   "outputs": [],
   "source": [
    "# 指定放映地區\n",
    "area_id = 28"
   ]
  },
  {
   "cell_type": "code",
   "execution_count": 43,
   "metadata": {},
   "outputs": [
    {
     "output_type": "stream",
     "name": "stdout",
     "text": "五月 26\n五月 27\n五月 28\n五月 29\n五月 30\n"
    }
   ],
   "source": [
    "# 向網站發送請求\n",
    "url = 'https://movies.yahoo.com.tw/movietime_result.html'\n",
    "payload = {'movie_id':str(movie_id), 'area_id':str(area_id)}\n",
    "resp = requests.get(url, params=payload)\n",
    "resp.encoding = 'utf-8'\n",
    "\n",
    "soup = BeautifulSoup(resp.text, 'lxml')\n",
    "movie_date = soup.find_all(\"label\", attrs={'for':re.compile(\"date_[\\d]\")})\n",
    "\n",
    "# 列印播放日期\n",
    "for date in movie_date:\n",
    "    print(\"%s %s\" % (date.p.string, date.h3.string))"
   ]
  },
  {
   "cell_type": "markdown",
   "metadata": {},
   "source": [
    "### 最後指定觀看的日期，查詢並列印出放映的電影院、放映類型(數位、3D、IMAX 3D...)、放映時間等資訊。"
   ]
  },
  {
   "cell_type": "code",
   "execution_count": 44,
   "metadata": {},
   "outputs": [],
   "source": [
    "# 選定要觀看的日期\n",
    "date = \"2020-05-28\""
   ]
  },
  {
   "cell_type": "code",
   "execution_count": 45,
   "metadata": {},
   "outputs": [
    {
     "output_type": "stream",
     "name": "stdout",
     "text": "<div class=\"pc-movie-schedule-form\">\n    <div class=\"area_timebox\">\n   <div class=\"area_title\">台北市</div>\n      <ul id=\"theater_id_186\" class=\"area_time _c jq_area_time\" data-theater_name=\"喜樂時代影城南港店\" data-theater_url=\"http://www.centuryasia.com.tw/default.aspx\" data-theater_schedules=\"https://movies.yahoo.com.tw/theater_result.html/id=186\" >\n       <li class=\"adds\">\n           <a href=\"https://movies.yahoo.com.tw/theater_result.html/id=186\">喜樂時代影城南港店</a>\n           <span>02-27888185</span>\n       </li>\n                         <li class=\"taps\">\n                <span class=\"tapR\">數位</span>                           </li>\n           <li class=\"time _c\">\n               <div class=\"input_picker jq_input_picker\">\n                                                                   <input type=\"radio\" name=\"schedule_list\" id=\"73587658\" class=\"gabtn\"\n                        value=\"2020-05-28 13:15:00\"  data-movie=\"dd262a522411454dbe1789c45ce2a7f6\"\n                        data-cinema=\"40288eb0050f542401050f5681782dc5\" data-session=\"6d6367e07c9447e299810ef59dc5f415\"\n                        data-date=\"1590595200\" data-time=\"1590642900\"\n                        data-movie_type=\"數位\"\n                        data-movie_title=\"永不放棄：詹姆斯艾利森\"\n                        data-movie_date=\"05.28\"\n                        data-movie_time=\"13:15\"\n                        data-ga=\"['電影頁_時刻表', '電影頁_時刻表_場次', '永不放棄：詹姆斯艾利森']\" data-ezding=\"ezding\"\n                        />\n                    <label for=\"73587658\" class=\"select\">13:15</label>\n                                                                                    <input type=\"radio\" name=\"schedule_list\" id=\"73587659\" class=\"gabtn\"\n                        value=\"2020-05-28 20:50:00\"  data-movie=\"dd262a522411454dbe1789c45ce2a7f6\"\n                        data-cinema=\"40288eb0050f542401050f5681782dc5\" data-session=\"43568dd129e64c0f9060330738d87a1b\"\n                        data-date=\"1590595200\" data-time=\"1590670200\"\n                        data-movie_type=\"數位\"\n                        data-movie_title=\"永不放棄：詹姆斯艾利森\"\n                        data-movie_date=\"05.28\"\n                        data-movie_time=\"20:50\"\n                        data-ga=\"['電影頁_時刻表', '電影頁_時刻表_場次', '永不放棄：詹姆斯艾利森']\" data-ezding=\"ezding\"\n                        />\n                    <label for=\"73587659\" class=\"select\">20:50</label>\n                                               </div>\n           </li>\n          </ul>\n   </div>\n\n    <div class=\"booking_modal jq_booking_modal\">\n    <div class=\"booking_modal_backdrop\"></div>\n    <!-- 時報訂票 ＆ 有官網訂票 新增 class => no_seats -->\n    <div class=\"booking_modal_content jq_booking_modal_content\">\n        <form method=\"get\" action=\"https://movies.yahoo.com.tw/ticket/ezding_ticket\" target=\"_blank\" id=\"form_schedule\">\n                <div class=\"ezding_ticket_value\">\n            <input type=\"hidden\" name=\"movie_id\" value=\"\">\n            <input type=\"hidden\" name=\"cinema_id\" value=\"\">\n            <input type=\"hidden\" name=\"session_id\" value=\"\">\n            <input type=\"hidden\" name=\"date\" value=\"\">\n            <input type=\"hidden\" name=\"time\" value=\"\">\n            <input type=\"hidden\" name=\"campaign_code\" value=\"yahoopc\">\n        </div>\n        <ul class=\"top_infos\">\n            <li>\n                <p>片名</p>\n                <h3 id=\"top_infos_movie\"></h3>\n            </li>\n            <li>\n                <p>影城</p>\n                <h3 id=\"top_infos_theater\"></h3>\n            </li>\n            <li>\n                <p>日期</p>\n                <h3 id=\"top_infos_date\"></h3>\n            </li>\n            <li>\n                <p>版本</p>\n                <h3 id=\"top_infos_movie_type\"></h3>\n            </li>\n            <li>\n                <p>時間</p>\n                <h3 id=\"top_infos_time\"></h3>\n            </li>\n        </ul>\n        \n        <div class=\"booking_seats\">\n            <a href=\"#\" class=\"theater_schedules gabtn\" data-ga=\"['電影頁_時刻表', '電影頁_時刻表_一般戲院_全部電影場次', '']\">全部電影場次</a>\n            <a href=\"#\" class=\"theater_url gabtn\" data-ga=\"['電影頁_時刻表', '電影頁_時刻表_一般戲院_官網訂票', '']\" target=\"_blank\">官網訂票</a>\n            <p id=\"no_theater_url\" class=\"no_theater_url\">無提供官網訂票</p>\n\n            <p id=\"booking_number\" class=\"booking_number\">人數</p>\n            <div class=\"booking_seat_group jq_booking_seat_group\">\n                                    <input type=\"radio\" name=\"tickets\" id=\"seat_1\" value=\"1\" />\n                    <label for=\"seat_1\">1</label>\n                                    <input type=\"radio\" name=\"tickets\" id=\"seat_2\" value=\"2\"  checked />\n                    <label for=\"seat_2\">2</label>\n                                    <input type=\"radio\" name=\"tickets\" id=\"seat_3\" value=\"3\" />\n                    <label for=\"seat_3\">3</label>\n                                    <input type=\"radio\" name=\"tickets\" id=\"seat_4\" value=\"4\" />\n                    <label for=\"seat_4\">4</label>\n                                    <input type=\"radio\" name=\"tickets\" id=\"seat_5\" value=\"5\" />\n                    <label for=\"seat_5\">5</label>\n                                    <input type=\"radio\" name=\"tickets\" id=\"seat_6\" value=\"6\" />\n                    <label for=\"seat_6\">6</label>\n                            </div>\n            <button type=\"submit\" class=\"action_btn action_booking_btn jq_booking_btn gabtn\" data-ga=\"['電影頁_時刻表', '電影頁_時刻表_一般戲院_選位', '']\">選位</button>\n            <a href=\"#\" class=\"action_btn action_link jq_booking_link gabtn\" data-ga=\"['電影頁_時刻表', '電影頁_時刻表_時報戲院_官網選位', '']\" target=\"_blank\">官網訂票</a>\n            <button type=\"button\" class=\"action_btn close jq_close_booking_btn\">關閉</button>\n        </div>\n        </form>\n\n        <!-- 無官網訂票區塊 -->\n        <div class=\"no_theater_section\">\n            <p>無提供官網訂票</p>\n            <button type=\"button\" class=\"action_btn close jq_close_booking_btn\">關閉</button>\n        </div>\n    </div>\n</div></div>\n"
    }
   ],
   "source": [
    "# 向網站發送請求，獲取上映的電影院及時間資訊\n",
    "url = \"https://movies.yahoo.com.tw/ajax/pc/get_schedule_by_movie\"\n",
    "payload = {'movie_id':str(movie_id),\n",
    "           'date':date,\n",
    "           'area_id':str(area_id),\n",
    "           'theater_id':'',\n",
    "           'datetime':'',\n",
    "           'movie_type_id':''}\n",
    "\n",
    "resp = requests.get(url, params=payload)\n",
    "print(resp.json()['view'])  # 若有需要，列印出json原始碼\n",
    "\n",
    "soup = BeautifulSoup(resp.json()['view'], 'lxml')\n",
    "html = soup.find_all(\"ul\", attrs={'data-theater_name':re.compile(\".*\")})"
   ]
  },
  {
   "cell_type": "code",
   "execution_count": 46,
   "metadata": {},
   "outputs": [
    {
     "output_type": "stream",
     "name": "stdout",
     "text": "喜樂時代影城南港店\n數位\n13:15\n20:50\n"
    }
   ],
   "source": [
    "# print(html)\n",
    "for i in html:\n",
    "  t = i.find(class_=\"tapR\").string\n",
    "  times = i.findAll(class_=\"gabtn\")\n",
    "  print(i[\"data-theater_name\"])\n",
    "  print(t)\n",
    "  for time in times:\n",
    "    print(time[\"data-movie_time\"])\n"
   ]
  }
 ],
 "metadata": {
  "kernelspec": {
   "display_name": "Python 3",
   "language": "python",
   "name": "python3"
  },
  "language_info": {
   "codemirror_mode": {
    "name": "ipython",
    "version": 3
   },
   "file_extension": ".py",
   "mimetype": "text/x-python",
   "name": "python",
   "nbconvert_exporter": "python",
   "pygments_lexer": "ipython3",
   "version": "3.7.4-final"
  }
 },
 "nbformat": 4,
 "nbformat_minor": 2
}