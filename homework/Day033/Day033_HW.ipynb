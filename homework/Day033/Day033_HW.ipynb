{
 "cells": [
  {
   "cell_type": "markdown",
   "metadata": {},
   "source": [
    "# 反爬：登入授權模擬\n",
    "\n",
    "* 了解「登入權限機制」的反爬蟲機制\n",
    "* 「登入權限機制」反爬蟲的因應策略"
   ]
  },
  {
   "cell_type": "markdown",
   "metadata": {},
   "source": [
    "## 作業目標\n",
    "\n",
    "* 找一個需要登入的網站試試看，並說明思考流程\n",
    "（如果不知道要用哪個網站的話，可以試試看 https://github.com/new 網址，未登入時會被導向登入頁）\n",
    "\n"
   ]
  },
  {
   "cell_type": "code",
   "execution_count": 3,
   "metadata": {},
   "outputs": [
    {
     "output_type": "stream",
     "name": "stdout",
     "text": "<title>Sign in to GitHub · GitHub</title>\n"
    }
   ],
   "source": [
    "import requests\n",
    "from bs4 import BeautifulSoup\n",
    "r = requests.get('https://github.com/new')\n",
    "soup = BeautifulSoup(r.text, 'lxml')\n",
    "print(soup.title)"
   ]
  },
  {
   "cell_type": "code",
   "execution_count": 4,
   "metadata": {},
   "outputs": [
    {
     "output_type": "execute_result",
     "data": {
      "text/plain": "<title>Sign in to GitHub · GitHub</title>"
     },
     "metadata": {},
     "execution_count": 4
    }
   ],
   "source": [
    "cookies = {\n",
    "    'logged_in': 'yes',\n",
    "    'user_session': ''\n",
    "}\n",
    "\n",
    "r = requests.get('https://github.com/new', cookies=cookies)\n",
    "soup = BeautifulSoup(r.text, 'lxml')\n",
    "soup.title"
   ]
  }
 ],
 "metadata": {
  "kernelspec": {
   "display_name": "Python 3",
   "language": "python",
   "name": "python3"
  },
  "language_info": {
   "codemirror_mode": {
    "name": "ipython",
    "version": 3
   },
   "file_extension": ".py",
   "mimetype": "text/x-python",
   "name": "python",
   "nbconvert_exporter": "python",
   "pygments_lexer": "ipython3",
   "version": "3.7.4-final"
  }
 },
 "nbformat": 4,
 "nbformat_minor": 2
}