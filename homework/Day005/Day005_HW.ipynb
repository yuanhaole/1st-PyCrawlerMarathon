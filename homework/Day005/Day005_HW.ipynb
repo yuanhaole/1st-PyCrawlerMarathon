{
 "cells": [
  {
   "cell_type": "markdown",
   "metadata": {},
   "source": [
    "# API 資料串接 - 以 Dcard API 實作範例\n",
    "\n",
    "* 了解 Dcard API 使用方式與回傳內容\n",
    "* 撰寫程式存取 API 且解析 JSON 格式資料\n"
   ]
  },
  {
   "cell_type": "markdown",
   "metadata": {},
   "source": [
    "## 作業目標\n",
    "\n",
    "* 請利用 API: https://www.dcard.tw/_api/forums/pet/posts?popular=true 回答下列問題：\n",
    "\n",
    "1. 這個 API 一次會回傳幾筆資料？每一筆資料包含哪些欄位？\n",
    "2. 取出每一筆資料的「標題」、「貼文時間」、「留言人數」、「按讚人數」\n",
    "3. 計算熱門/非熱門文章的「平均留言人數」與「平均按讚人數」"
   ]
  },
  {
   "cell_type": "code",
   "execution_count": 3,
   "metadata": {},
   "outputs": [
    {
     "output_type": "stream",
     "name": "stdout",
     "text": "30\nid\ntitle\nexcerpt\nanonymousSchool\nanonymousDepartment\npinned\nforumId\nreplyId\ncreatedAt\nupdatedAt\ncommentCount\nlikeCount\nwithNickname\ntags\ntopics\nmeta\nforumName\nforumAlias\nnsfw\ngender\nschool\ndepartment\nreplyTitle\nmediaMeta\nreactions\nhidden\ncustomStyle\nisSuspiciousAccount\nlayout\nwithImages\nwithVideos\nmedia\nreportReasonText\npostAvatar\n"
    }
   ],
   "source": [
    "# 1. 這個 API 一次會回傳幾筆資料？每一筆資料包含哪些欄位？\n",
    "\n",
    "import requests, json\n",
    "r = requests.get('https://www.dcard.tw/_api/forums/pet/posts?popular=true')\n",
    "response = r.text\n",
    "data = json.loads(response)\n",
    "\n",
    "print(len(data))\n",
    "for i in data[0]:\n",
    "    print(i)"
   ]
  },
  {
   "cell_type": "code",
   "execution_count": 4,
   "metadata": {},
   "outputs": [
    {
     "output_type": "stream",
     "name": "stdout",
     "text": "白貓異色瞳🐱 2020-05-24T16:13:58.642Z 43 1070\n你家的貓崩壞需要多久？ 2020-05-24T09:22:53.340Z 16 269\n請幫我家的狗狗集氣😭😭 2020-05-24T02:31:49.255Z 5 124\n從世界最悲慘鼠變世界最幸福🐹 2020-05-24T09:57:07.949Z 14 115\n#黑特 貓咪美容受傷 2020-05-24T14:32:49.988Z 54 105\n鯊鯊與貓咪的邂逅-食物鏈 2020-05-24T11:47:02.657Z 0 66\n雖然你走了 但是我不難過 2020-05-24T14:45:47.145Z 7 18\n我只是想曬貓 2020-05-25T05:21:08.670Z 1 15\n交出你家の柴柴🐶 2020-05-24T08:47:39.834Z 4 15\n養幼犬交流 2020-05-24T15:47:40.534Z 7 13\n收容所裡堆積如山的小貓 2020-05-25T07:07:02.314Z 1 11\n中原同學！大同同學！你們的倉鼠 2020-05-25T05:35:00.587Z 0 10\n第一次撿到鳥 2020-05-24T13:56:54.530Z 2 10\n徵求好心人認養 2020-05-24T10:41:35.961Z 0 10\n協尋小型紅貴賓犬!!! #協尋 #台中 #台灣大道 賞金五萬 2020-05-24T14:07:15.936Z 3 9\n協尋 走失狗狗 2020-05-24T13:55:52.404Z 0 9\n領養浪浪🐕請益 2020-05-25T03:04:20.425Z 7 8\n其實樹蟾真的很可愛欸 受不了（裡面有青蛙照片 不喜誤入 2020-05-25T06:00:40.249Z 2 7\n鼠屆賽跑選手 2020-05-24T14:18:18.976Z 1 7\n關於小貓 2020-05-24T07:01:11.106Z 4 7\n兔爸兔媽 的無奈❤️ 2020-05-24T17:04:34.377Z 17 6\n寵物溝通練習個案 2020-05-24T12:45:15.640Z 85 5\n結紮變墮胎 2020-05-24T09:20:54.583Z 6 5\n#問 我該把它帶回家養嗎? 2020-05-25T06:12:32.398Z 4 4\n巨嬰的10個月貓貓 2020-05-25T06:01:16.481Z 0 4\n#問 撿到寄居蟹怎麼辦 2020-05-24T15:40:26.793Z 4 4\n暗黑飼育學-各位有多久沒看過天牛了呢 2020-05-24T11:28:06.739Z 0 4\n曬一下 2020-05-24T09:16:36.979Z 1 4\n曬狗 2020-05-25T09:13:10.785Z 1 3\n送養文 親人貓咪求愛他的主人 2020-05-25T04:18:12.405Z 6 3\n"
    }
   ],
   "source": [
    "# 2. 取出每一筆資料的「標題」、「貼文時間」、「留言人數」、「按讚人數」\n",
    "\n",
    "for i in data:\n",
    "    print(i['title'],i['createdAt'],i['commentCount'],i['likeCount'])"
   ]
  },
  {
   "cell_type": "code",
   "execution_count": 5,
   "metadata": {},
   "outputs": [
    {
     "output_type": "stream",
     "name": "stdout",
     "text": "9.833333333333334 64.66666666666667 2.8 3.0\n"
    }
   ],
   "source": [
    "# 3. 計算熱門/非熱門文章的「平均留言人數」與「平均按讚人數」\n",
    "\n",
    "commentSum = 0\n",
    "likeSum = 0\n",
    "n_commentSum = 0\n",
    "n_likeSum = 0\n",
    "for i in data:\n",
    "    commentSum += i['commentCount']\n",
    "    likeSum += i['likeCount']\n",
    "commentSum /= len(data)\n",
    "likeSum /= len(data)\n",
    "\n",
    "np = requests.get('https://www.dcard.tw/_api/forums/pet/posts?popular=false')\n",
    "npr = np.text\n",
    "np_data = json.loads(npr)\n",
    "\n",
    "for i in np_data:\n",
    "    n_commentSum += i['commentCount']\n",
    "    n_likeSum += i['likeCount']\n",
    "n_commentSum /= len(np_data)\n",
    "n_likeSum /= len(data)\n",
    "\n",
    "print(commentSum, likeSum, n_commentSum, n_likeSum)"
   ]
  },
  {
   "cell_type": "code",
   "execution_count": null,
   "metadata": {},
   "outputs": [],
   "source": []
  },
  {
   "cell_type": "code",
   "execution_count": null,
   "metadata": {},
   "outputs": [],
   "source": []
  }
 ],
 "metadata": {
  "kernelspec": {
   "display_name": "Python 3",
   "language": "python",
   "name": "python3"
  },
  "language_info": {
   "codemirror_mode": {
    "name": "ipython",
    "version": 3
   },
   "file_extension": ".py",
   "mimetype": "text/x-python",
   "name": "python",
   "nbconvert_exporter": "python",
   "pygments_lexer": "ipython3",
   "version": "3.7.4-final"
  }
 },
 "nbformat": 4,
 "nbformat_minor": 2
}