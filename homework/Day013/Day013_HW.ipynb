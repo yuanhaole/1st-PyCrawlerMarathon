{
 "cells": [
  {
   "cell_type": "markdown",
   "metadata": {},
   "source": [
    "# PTT 網路爬蟲實作練習\n",
    "\n",
    "\n",
    "* 能夠利用 Request + BeatifulSour 撰寫爬蟲，並存放到合適的資料結構\n"
   ]
  },
  {
   "cell_type": "markdown",
   "metadata": {},
   "source": [
    "## 作業目標\n",
    "\n",
    "根據範例 ，完成以下問題：\n",
    "\n",
    "* ① 印出最新文章的「作者」「標題」「時間」\n",
    "* ② 印出第一頁所有文章的「作者」「標題」「時間」\n"
   ]
  },
  {
   "cell_type": "markdown",
   "metadata": {},
   "source": [
    "### ① 印出最新文章的「作者」「標題」「時間」"
   ]
  },
  {
   "cell_type": "code",
   "execution_count": 14,
   "metadata": {},
   "outputs": [
    {
     "output_type": "stream",
     "name": "stdout",
     "text": "{'作者': 'leegirl3310 (MANGO GO GO)', '標題': '[問題] 台灣上網WIFI租借', '時間': datetime.datetime(2020, 5, 26, 21, 57, 3)}\n"
    }
   ],
   "source": [
    "import requests\n",
    "from datetime import datetime\n",
    "from bs4 import BeautifulSoup\n",
    "\n",
    "url = 'https://www.ptt.cc/bbs/e-shopping/index.html'\n",
    "r = requests.get(url).text\n",
    "soup = BeautifulSoup(r, \"lxml\")\n",
    "a = []\n",
    "for i in soup.findAll(class_=\"title\"):\n",
    "    try:\n",
    "        url = \"https://www.ptt.cc/\" + i.find('a')[\"href\"]\n",
    "    except:\n",
    "        continue\n",
    "    r = requests.get(url).text\n",
    "    s = BeautifulSoup(r, \"lxml\")\n",
    "    try:\n",
    "        data = s.findAll(class_=\"article-meta-value\")\n",
    "        author = data[0].text\n",
    "        title = data[2].text\n",
    "        time = data[3].text\n",
    "    except:\n",
    "        continue\n",
    "    a.append({\n",
    "        \"作者\" : author,\n",
    "        \"標題\"  : title,\n",
    "        \"時間\"   : datetime.strptime(time, \"%a %b %d %H:%M:%S %Y\")\n",
    "    })\n",
    "a.sort(key=lambda x : x[\"時間\"], reverse = True)\n",
    "print(a[0])"
   ]
  },
  {
   "cell_type": "markdown",
   "metadata": {},
   "source": [
    "### ② 印出第一頁所有文章的「作者」「標題」「時間」"
   ]
  },
  {
   "cell_type": "code",
   "execution_count": 15,
   "metadata": {},
   "outputs": [
    {
     "output_type": "stream",
     "name": "stdout",
     "text": "{'作者': 'leegirl3310 (MANGO GO GO)', '標題': '[問題] 台灣上網WIFI租借', '時間': datetime.datetime(2020, 5, 26, 21, 57, 3)}\n{'作者': 'AAppler (愛波咬一口♥)', '標題': '[連線] 05/26 日貨連線ヾ(′ε`ヾ)', '時間': datetime.datetime(2020, 5, 26, 21, 56, 16)}\n{'作者': 'YuDragon (yoga)', '標題': '[問題] 美國亞馬遜退關稅時間？', '時間': datetime.datetime(2020, 5, 26, 21, 30, 24)}\n{'作者': 'newsnotti (哈嚕小姐)', '標題': '[問題] 淘寶現在的到貨速度?', '時間': datetime.datetime(2020, 5, 26, 20, 49, 24)}\n{'作者': 'vwvvo (human)', '標題': '[問題] 外部網站的商品有沒有風險？你們敢買嗎？', '時間': datetime.datetime(2020, 5, 26, 20, 17, 12)}\n{'作者': 'sam6503qpx (iOiOiOi)', '標題': '[問題] 京東購買東西的實名認證？', '時間': datetime.datetime(2020, 5, 26, 19, 42, 46)}\n{'作者': 'zx084 (peter09876)', '標題': '[問卷] (100P)運動明星代言與電子商務形象對於消費者購買意圖行為之研究', '時間': datetime.datetime(2020, 5, 26, 18, 14, 1)}\n{'作者': 'c790140 (啊答空不理)', '標題': '[挑選] 短版上衣挑色', '時間': datetime.datetime(2020, 5, 26, 16, 42, 38)}\n{'作者': 'pampam1224 (Pamela Lin)', '標題': '[挑選] 舒緩私密噴霧', '時間': datetime.datetime(2020, 5, 26, 16, 20, 35)}\n{'作者': 'treefrog (Roots)', '標題': 'Re: [心得]  反推/不推Aurai 眼部按摩器', '時間': datetime.datetime(2020, 5, 26, 16, 10, 22)}\n{'作者': 'nod202 (chinchilla)', '標題': '[挑選] 輝葉追夢椅顏色選擇障礙', '時間': datetime.datetime(2020, 5, 26, 16, 1, 1)}\n{'作者': 'ityhnnopum (洋 蔥)', '標題': '[問題] 三十革真皮防水系列', '時間': datetime.datetime(2020, 5, 26, 15, 45, 36)}\n{'作者': 'leoliu830115 (力歐流)', '標題': '[閒聊] 防護布口罩知多少', '時間': datetime.datetime(2020, 5, 26, 13, 9, 52)}\n{'作者': 'iris30531 (日央)', '標題': '[心得] waveshine voda airspace十件泳裝分享', '時間': datetime.datetime(2020, 5, 26, 13, 7, 12)}\n{'作者': 'chingsang ()', '標題': '[挑選] Tansshop削肩繞頸洋裝顏色選擇', '時間': datetime.datetime(2020, 5, 26, 12, 48, 19)}\n{'作者': 'bugcute (cutebug)', '標題': '淘寶官方空運遲遲不入庫', '時間': datetime.datetime(2020, 5, 26, 12, 43, 2)}\n{'作者': 'gxu04 (讓我逃離平庸的生活)', '標題': '[公告] 置底推文違規區 NEW', '時間': datetime.datetime(2019, 2, 9, 18, 56, 38)}\n{'作者': 'gxu04 (讓我逃離平庸的生活)', '標題': '[公告] 再次提醒豬瘟相關資訊', '時間': datetime.datetime(2018, 12, 19, 0, 0, 41)}\n{'作者': 'gxu04 (小綠)', '標題': '[公告] e-shopping板規', '時間': datetime.datetime(2015, 1, 10, 16, 57, 25)}\n"
    }
   ],
   "source": [
    "for i in a:\n",
    "    print(i, end= \"\\n\")"
   ]
  },
  {
   "cell_type": "markdown",
   "metadata": {},
   "source": [
    "### ③ 試著爬爬看其他版的文章"
   ]
  },
  {
   "cell_type": "code",
   "execution_count": 16,
   "metadata": {},
   "outputs": [
    {
     "output_type": "stream",
     "name": "stdout",
     "text": "[{'作者': 'qsef5 (最菜的兵)', '標題': '[問題] 小黃裝這個是什麼燈？', '時間': datetime.datetime(2020, 5, 26, 22, 21, 32)}, {'作者': 'jimpon (kobe11)', '標題': '[新聞] 特斯拉上海二期廠區進度驚人，Model Y 可', '時間': datetime.datetime(2020, 5, 26, 22, 12, 51)}, {'作者': 'imgeopinky (Pin Pin)', '標題': '[問題] 第二年鋁罐車丙式續保請益', '時間': datetime.datetime(2020, 5, 26, 22, 7, 25)}, {'作者': 'demonmoon (有隻熊走在路上)', '標題': '[心得] toyota的驅動城市app其實很好用', '時間': datetime.datetime(2020, 5, 26, 22, 6, 23)}, {'作者': 'jimpon (kobe11)', '標題': '[新聞] 特斯拉勁敵！美媒:蘋果5700億研發電動車', '時間': datetime.datetime(2020, 5, 26, 22, 4, 39)}, {'作者': 'ymhu6026 (MyNameIsRainMan)', '標題': 'R: [討論] 台灣真的不需要4驅嗎？？？', '時間': datetime.datetime(2020, 5, 26, 21, 57, 37)}, {'作者': 'fenderrb ()', '標題': 'Re: [討論] 台灣真的不需要4驅嗎？？？', '時間': datetime.datetime(2020, 5, 26, 21, 27, 35)}, {'作者': 'MunezSu', '標題': '[活動連署] saitou68201上任第二位版主', '時間': datetime.datetime(2019, 10, 1, 0, 41)}, {'作者': 'z85917131 (z85917131)', '標題': 'Re: [整理] 百萬左右熱門新車主被動安全配備(SRS/ESP/VSC..)整理', '時間': datetime.datetime(2019, 4, 9, 11, 59, 25)}, {'作者': 'MunezSu (Munez)', '標題': '[公告] Car板板規 2019/01/09 新增問車文規範', '時間': datetime.datetime(2019, 1, 9, 1, 45, 44)}]\n"
    }
   ],
   "source": [
    "import requests\n",
    "from datetime import datetime\n",
    "from bs4 import BeautifulSoup\n",
    "\n",
    "url = 'https://www.ptt.cc/bbs/car/index.html'\n",
    "\n",
    "r = requests.get(url)\n",
    "soup = BeautifulSoup(r.text, \"lxml\")\n",
    "a = []\n",
    "for i in soup.findAll(class_=\"title\"):\n",
    "    try:\n",
    "        url = \"https://www.ptt.cc/\" + i.find('a')[\"href\"]\n",
    "    except:\n",
    "        continue\n",
    "    r = requests.get(url).text\n",
    "    s = BeautifulSoup(r, \"lxml\")\n",
    "    try:\n",
    "        data = s.findAll(class_=\"article-meta-value\")\n",
    "        author = data[0].text\n",
    "        title = data[2].text\n",
    "        time = data[3].text\n",
    "    except:\n",
    "        continue\n",
    "    a.append({\n",
    "        \"作者\" : author,\n",
    "        \"標題\"  : title,\n",
    "        \"時間\"   : datetime.strptime(time, \"%a %b %d %H:%M:%S %Y\")\n",
    "    })\n",
    "a.sort(key=lambda x : x[\"時間\"], reverse = True)\n",
    "print(a)"
   ]
  }
 ],
 "metadata": {
  "kernelspec": {
   "display_name": "Python 3",
   "language": "python",
   "name": "python3"
  },
  "language_info": {
   "codemirror_mode": {
    "name": "ipython",
    "version": 3
   },
   "file_extension": ".py",
   "mimetype": "text/x-python",
   "name": "python",
   "nbconvert_exporter": "python",
   "pygments_lexer": "ipython3",
   "version": "3.7.4-final"
  }
 },
 "nbformat": 4,
 "nbformat_minor": 2
}